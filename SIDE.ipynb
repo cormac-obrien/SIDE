{
 "cells": [
  {
   "cell_type": "code",
   "execution_count": 1,
   "metadata": {},
   "outputs": [],
   "source": [
    "import numpy as np\n",
    "import scipy.io\n",
    "import skimage\n",
    "import tensorflow as tf\n",
    "import tensorflow.keras as keras\n",
    "import matplotlib as mpl\n",
    "import matplotlib.pyplot as plt\n",
    "%matplotlib inline\n",
    "mpl.rc('image', cmap='gray') # set default image colormap to gray\n",
    "\n",
    "# try gaussian weighting of neighboring patches?"
   ]
  },
  {
   "cell_type": "code",
   "execution_count": 2,
   "metadata": {},
   "outputs": [
    {
     "data": {
      "text/plain": [
       "<matplotlib.image.AxesImage at 0x7f7280c76c18>"
      ]
     },
     "execution_count": 2,
     "metadata": {},
     "output_type": "execute_result"
    },
    {
     "data": {
      "image/png": "[encoded data removed]",
      "text/plain": [
       "<Figure size 432x288 with 9 Axes>"
      ]
     },
     "metadata": {
      "needs_background": "light"
     },
     "output_type": "display_data"
    }
   ],
   "source": [
    "# 3x3 Laws filters from [Saxena et al. 2007]\n",
    "L3 = np.array([1, 2, 1]) / 128 / .2\n",
    "E3 = [-1, 0, 1]\n",
    "S3 = [-1, 2, -1]\n",
    "\n",
    "L3L3 = np.outer(L3, L3)\n",
    "L3E3 = np.outer(L3, E3)\n",
    "L3S3 = np.outer(L3, S3)\n",
    "E3L3 = np.outer(E3, L3)\n",
    "E3E3 = np.outer(E3, E3)\n",
    "E3S3 = np.outer(E3, S3)\n",
    "S3L3 = np.outer(S3, L3)\n",
    "S3E3 = np.outer(S3, E3)\n",
    "S3S3 = np.outer(S3, S3)\n",
    "\n",
    "f, ax = plt.subplots(3, 3)\n",
    "[x.set_axis_off() for x in ax.ravel()]\n",
    "ax[0, 0].imshow(L3L3)\n",
    "ax[0, 1].imshow(L3E3)\n",
    "ax[0, 2].imshow(L3S3)\n",
    "ax[1, 0].imshow(E3L3)\n",
    "ax[1, 1].imshow(E3E3)\n",
    "ax[1, 2].imshow(E3S3)\n",
    "ax[2, 0].imshow(S3L3)\n",
    "ax[2, 1].imshow(S3E3)\n",
    "ax[2, 2].imshow(S3S3)"
   ]
  },
  {
   "cell_type": "code",
   "execution_count": 3,
   "metadata": {},
   "outputs": [
    {
     "data": {
      "text/plain": [
       "<matplotlib.image.AxesImage at 0x7f7280ab74e0>"
      ]
     },
     "execution_count": 3,
     "metadata": {},
     "output_type": "execute_result"
    },
    {
     "data": {
      "image/png": "[encoded data removed]",
      "text/plain": [
       "<Figure size 432x288 with 6 Axes>"
      ]
     },
     "metadata": {
      "needs_background": "light"
     },
     "output_type": "display_data"
    }
   ],
   "source": [
    "# Oriented edge filters from [Nevatia 1980]\n",
    "NB0 = np.tile([-100, -100, 0, 100, 100], (5, 1)) / 2000\n",
    "NB30 = np.array([\n",
    "    [-100, 32, 100, 100, 100],\n",
    "    [-100, -78, 92, 100, 100],\n",
    "    [-100, -100, 0, 100, 100],\n",
    "    [-100, -100, -92, 78, 100],\n",
    "    [-100, -100, -100, -32, 100],\n",
    "]) / 2000\n",
    "\n",
    "NB60 = -NB30.T\n",
    "NB90 = -NB0.T\n",
    "NB120 = -np.flipud(NB60)\n",
    "NB150 = NB120.T\n",
    "\n",
    "f, ax = plt.subplots(2, 3)\n",
    "[x.set_axis_off() for x in ax.ravel()]\n",
    "ax[0, 0].imshow(NB0)\n",
    "ax[0, 1].imshow(NB30)\n",
    "ax[0, 2].imshow(NB60)\n",
    "ax[1, 0].imshow(NB90)\n",
    "ax[1, 1].imshow(NB120)\n",
    "ax[1, 2].imshow(NB150)"
   ]
  },
  {
   "cell_type": "code",
   "execution_count": 4,
   "metadata": {},
   "outputs": [],
   "source": [
    "import os\n",
    "from urllib.request import urlretrieve\n",
    "\n",
    "DATA_URL = 'http://horatio.cs.nyu.edu/mit/silberman/nyu_depth_v2/nyu_depth_v2_labeled.mat'\n",
    "DATA_FILE = 'nyu_depth_v2_labeled.mat'\n",
    "\n",
    "if not os.path.isfile(DATA_FILE):\n",
    "    urlretrieve('http://horatio.cs.nyu.edu/mit/silberman/nyu_depth_v2/nyu_depth_v2_labeled.mat', DATA_FILE)"
   ]
  },
  {
   "cell_type": "code",
   "execution_count": 11,
   "metadata": {},
   "outputs": [],
   "source": [
    "import h5py\n",
    "\n",
    "TEST_RATIO = 0.2\n",
    "\n",
    "nyu = h5py.File(DATA_FILE, 'r')\n",
    "count, channels, width, height = np.shape(nyu['images'])\n",
    "test_count = int(count * TEST_RATIO)\n",
    "test_indices = sorted(perm[:test_count])\n",
    "train_indices = sorted(perm[test_count:])\n",
    "\n",
    "WIDTH=640\n",
    "HEIGHT=480\n",
    "CHANNELS=3"
   ]
  },
  {
   "cell_type": "code",
   "execution_count": 144,
   "metadata": {},
   "outputs": [],
   "source": [
    "from tensorflow.keras.utils import Sequence\n",
    "from sklearn.preprocessing import normalize\n",
    "\n",
    "class NYUSequence(Sequence):\n",
    "    def __init__(self, ids, batch_size, images, depths, shuffle=True):\n",
    "        self.batch_size = batch_size\n",
    "        self.state = np.random.RandomState(seed=0xbeef)\n",
    "        self.images = images\n",
    "        self.depths = depths\n",
    "        \n",
    "        self.ids = ids\n",
    "        \n",
    "        if shuffle:\n",
    "            self.perm = self.state.permutation(len(self.ids))\n",
    "        else:\n",
    "            self.perm = np.arange(len(self.ids))\n",
    "        \n",
    "    def __len__(self):\n",
    "        return int(np.ceil(len(self.ids) / self.batch_size))\n",
    "    \n",
    "    def __getitem__(self, index):\n",
    "        init_ids = self.perm[index * self.batch_size : (index + 1) * self.batch_size]\n",
    "        perm_ids = [self.ids[i] for i in init_ids]\n",
    "        X, y = self._generate(perm_ids)\n",
    "        return X, y\n",
    "    \n",
    "    def on_epoch_end(self):\n",
    "        self.perm = self.state.permutation(len(self.ids))\n",
    "        \n",
    "    def _generate(self, ids):\n",
    "        X = np.empty((self.batch_size, CHANNELS, WIDTH, HEIGHT))\n",
    "        y = np.empty((self.batch_size, 1, WIDTH, HEIGHT))\n",
    "        \n",
    "        for i in range(self.batch_size):\n",
    "            X[i,] = self.images[ids[i]] / 255.0\n",
    "            \n",
    "            # add a channel axis to y to match the dimensions of X and normalize it\n",
    "            y[i] = np.expand_dims(self.depths[ids[i]] / np.max(self.depths[ids[i]]), 0)\n",
    "        \n",
    "        return X, y\n",
    "        "
   ]
  },
  {
   "cell_type": "code",
   "execution_count": 110,
   "metadata": {},
   "outputs": [],
   "source": [
    "import tensorflow.keras.backend as K\n",
    "\n",
    "W = 640\n",
    "H = 480\n",
    "N = np.float32(W * H)\n",
    "\n",
    "# see https://papers.nips.cc/paper/5539-depth-map-prediction-from-a-single-image-using-a-multi-scale-deep-network.pdf\n",
    "#\n",
    "# this can be augmented with a gradient term! https://arxiv.org/pdf/1411.4734.pdf\n",
    "def scale_invariant_loss(y_true, y_pred):\n",
    "    D = K.log(y_pred)\n",
    "    D_star = K.log(y_true)\n",
    "    d = D - D_star\n",
    "    \n",
    "    loss = (1 / N) * K.sum(K.pow(d, 2)) - (1 / K.pow(N, 2)) * K.pow(K.sum(d), 2)\n",
    "    return loss"
   ]
  },
  {
   "cell_type": "code",
   "execution_count": 145,
   "metadata": {},
   "outputs": [
    {
     "name": "stdout",
     "output_type": "stream",
     "text": [
      "_________________________________________________________________\n",
      "Layer (type)                 Output Shape              Param #   \n",
      "=================================================================\n",
      "conv2d_186 (Conv2D)          (None, 50, 640, 480)      1400      \n",
      "_________________________________________________________________\n",
      "batch_normalization_v1_156 ( (None, 50, 640, 480)      1920      \n",
      "_________________________________________________________________\n",
      "conv2d_187 (Conv2D)          (None, 50, 640, 480)      22550     \n",
      "_________________________________________________________________\n",
      "batch_normalization_v1_157 ( (None, 50, 640, 480)      1920      \n",
      "_________________________________________________________________\n",
      "conv2d_188 (Conv2D)          (None, 50, 640, 480)      22550     \n",
      "_________________________________________________________________\n",
      "batch_normalization_v1_158 ( (None, 50, 640, 480)      1920      \n",
      "_________________________________________________________________\n",
      "conv2d_189 (Conv2D)          (None, 50, 640, 480)      22550     \n",
      "_________________________________________________________________\n",
      "batch_normalization_v1_159 ( (None, 50, 640, 480)      1920      \n",
      "_________________________________________________________________\n",
      "conv2d_190 (Conv2D)          (None, 50, 640, 480)      22550     \n",
      "_________________________________________________________________\n",
      "batch_normalization_v1_160 ( (None, 50, 640, 480)      1920      \n",
      "_________________________________________________________________\n",
      "conv2d_191 (Conv2D)          (None, 50, 640, 480)      22550     \n",
      "_________________________________________________________________\n",
      "batch_normalization_v1_161 ( (None, 50, 640, 480)      1920      \n",
      "_________________________________________________________________\n",
      "conv2d_192 (Conv2D)          (None, 1, 640, 480)       51        \n",
      "=================================================================\n",
      "Total params: 125,721\n",
      "Trainable params: 119,961\n",
      "Non-trainable params: 5,760\n",
      "_________________________________________________________________\n",
      "Epoch 1/10\n",
      "200/200 [==============================] - 44s 221ms/step - loss: 0.1468\n",
      "Epoch 2/10\n",
      "200/200 [==============================] - 40s 200ms/step - loss: 0.1441\n",
      "Epoch 3/10\n",
      "200/200 [==============================] - 40s 200ms/step - loss: 0.1416\n",
      "Epoch 4/10\n",
      "200/200 [==============================] - 40s 200ms/step - loss: 0.1397\n",
      "Epoch 5/10\n",
      "200/200 [==============================] - 40s 200ms/step - loss: 0.1379\n",
      "Epoch 6/10\n",
      "200/200 [==============================] - 40s 200ms/step - loss: 0.1354\n",
      "Epoch 7/10\n",
      "200/200 [==============================] - 40s 202ms/step - loss: 0.1316\n",
      "Epoch 8/10\n",
      "200/200 [==============================] - 40s 201ms/step - loss: 0.1304\n",
      "Epoch 9/10\n",
      "200/200 [==============================] - 40s 201ms/step - loss: 0.1286\n",
      "Epoch 10/10\n",
      "200/200 [==============================] - 40s 201ms/step - loss: 0.1254\n"
     ]
    },
    {
     "data": {
      "text/plain": [
       "<tensorflow.python.keras.callbacks.History at 0x7f717b4d3a20>"
      ]
     },
     "execution_count": 145,
     "metadata": {},
     "output_type": "execute_result"
    }
   ],
   "source": [
    "# Adapted from [Ma, Geng, Bie 2017] pure CNN network\n",
    "\n",
    "from tensorflow.keras.layers import BatchNormalization, Conv2D, Input\n",
    "from tensorflow.keras.models import Sequential\n",
    "\n",
    "N_EPOCHS = 40\n",
    "BATCH_SIZE = 1\n",
    "\n",
    "sequence = NYUSequence(train_indices[:200], BATCH_SIZE, nyu['images'], nyu['depths'])\n",
    "\n",
    "model = Sequential([\n",
    "    #Input(shape=(width, height, channels)),\n",
    "    Conv2D(50, 3, activation='relu', padding='same', input_shape=(3, 640, 480), data_format='channels_first'),\n",
    "    BatchNormalization(),\n",
    "    Conv2D(50, 3, activation='relu', padding='same', data_format='channels_first'),\n",
    "    BatchNormalization(),\n",
    "    Conv2D(50, 3, activation='relu', padding='same', data_format='channels_first'),\n",
    "    BatchNormalization(),\n",
    "    Conv2D(50, 3, activation='relu', padding='same', data_format='channels_first'),\n",
    "    BatchNormalization(),\n",
    "    Conv2D(50, 3, activation='relu', padding='same', data_format='channels_first'),\n",
    "    BatchNormalization(),\n",
    "    Conv2D(50, 3, activation='relu', padding='same', data_format='channels_first'),\n",
    "    BatchNormalization(),\n",
    "    Conv2D(1, 1, activation='sigmoid', padding='same', data_format='channels_first'),\n",
    "])\n",
    "\n",
    "model.compile(loss=scale_invariant_loss, optimizer=tf.keras.optimizers.SGD(lr=.01, decay=1e-6))\n",
    "model.summary()\n",
    "model.fit_generator(sequence, epochs=10, verbose=1)"
   ]
  },
  {
   "cell_type": "code",
   "execution_count": 146,
   "metadata": {},
   "outputs": [],
   "source": [
    "predicted_depth = model.predict(np.array([nyu['images'][test_indices[0]]]))[0,0,:,:]"
   ]
  },
  {
   "cell_type": "code",
   "execution_count": 147,
   "metadata": {},
   "outputs": [
    {
     "data": {
      "text/plain": [
       "<matplotlib.image.AxesImage at 0x7f717ab9c2e8>"
      ]
     },
     "execution_count": 147,
     "metadata": {},
     "output_type": "execute_result"
    },
    {
     "data": {
      "image/png": "[encoded data removed]",
      "text/plain": [
       "<Figure size 432x288 with 1 Axes>"
      ]
     },
     "metadata": {
      "needs_background": "light"
     },
     "output_type": "display_data"
    }
   ],
   "source": [
    "predicted_depth = predicted_depth / np.max(predicted_depth)\n",
    "plt.imshow(predicted_depth, cmap='jet')"
   ]
  },
  {
   "cell_type": "code",
   "execution_count": 141,
   "metadata": {},
   "outputs": [
    {
     "data": {
      "text/plain": [
       "2.609266"
      ]
     },
     "execution_count": 141,
     "metadata": {},
     "output_type": "execute_result"
    }
   ],
   "source": []
  },
  {
   "cell_type": "code",
   "execution_count": null,
   "metadata": {},
   "outputs": [],
   "source": []
  }
 ],
 "metadata": {
  "kernelspec": {
   "display_name": "Python 3",
   "language": "python",
   "name": "python3"
  },
  "language_info": {
   "codemirror_mode": {
    "name": "ipython",
    "version": 3
   },
   "file_extension": ".py",
   "mimetype": "text/x-python",
   "name": "python",
   "nbconvert_exporter": "python",
   "pygments_lexer": "ipython3",
   "version": "3.7.2"
  }
 },
 "nbformat": 4,
 "nbformat_minor": 2
}
